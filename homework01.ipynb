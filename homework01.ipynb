{
 "cells": [
  {
   "cell_type": "markdown",
   "metadata": {},
   "source": [
    "### Quention1:\n",
    "编写一个程序, ```get_response(saying, response_rules)```输入是一个字符串 + 我们定义的 rules，例如上边我们所写的 pattern， 输出是一个回答。"
   ]
  },
  {
   "cell_type": "code",
   "execution_count": 120,
   "metadata": {
    "collapsed": true
   },
   "outputs": [],
   "source": [
    "def is_variable(pat):\n",
    "    return pat.startswith('?') and all(s.isalpha() for s in pat[1:])"
   ]
  },
  {
   "cell_type": "code",
   "execution_count": 121,
   "metadata": {
    "collapsed": true
   },
   "outputs": [],
   "source": [
    "def is_pattern_segment(pat):\n",
    "    return pat.startswith('?*') and all(s.isalpha() for s in pat[2:])\n"
   ]
  },
  {
   "cell_type": "code",
   "execution_count": 122,
   "metadata": {
    "collapsed": true
   },
   "outputs": [],
   "source": [
    "fail = [ False]\n",
    "def pat_match(pattern, saying):\n",
    "    if not pattern or not saying: return []\n",
    "    pat = pattern[0]\n",
    "    if is_variable(pat):\n",
    "        return [(pat, saying[0])] + pat_match(pattern[1:], saying[1:])\n",
    "    elif is_pattern_segment(pat):\n",
    "        match, index = segment_match(pattern, saying)\n",
    "        return [match] + pat_match(pattern[1:], saying[index:])\n",
    "    elif pat == saying[0]:\n",
    "        return pat_match(pattern[1:], saying[1:])\n",
    "    else:\n",
    "        return fail \n"
   ]
  },
  {
   "cell_type": "code",
   "execution_count": 123,
   "metadata": {
    "collapsed": true
   },
   "outputs": [],
   "source": [
    "def segment_match(pattern,saying):\n",
    "    seg_pat,seg_rest = pattern[0],pattern[1:]\n",
    "    seg_pat = seg_pat.replace('?*','?')\n",
    "    if not seg_rest:return (seg_pat,saying),len(saying)\n",
    "    for k,v in enumerate(saying):\n",
    "        if seg_rest[0] == v:\n",
    "            return  (seg_pat,saying[:k]),k\n",
    "    return (seg_pat,saying),len(saying)    "
   ]
  },
  {
   "cell_type": "code",
   "execution_count": 124,
   "metadata": {
    "collapsed": true
   },
   "outputs": [],
   "source": [
    "\n",
    "def pat_to_dic(pattern):\n",
    "    return {k: ' '.join(v) if isinstance(v,list) else v for k,v in pattern}\n"
   ]
  },
  {
   "cell_type": "code",
   "execution_count": 125,
   "metadata": {
    "collapsed": true
   },
   "outputs": [],
   "source": [
    "def subsitite(rule,parsed_rule_dic):\n",
    "    if not rule:return []\n",
    "    return [parsed_rule_dic.get(rule[0],rule[0])]+ subsitite(rule[1:],parsed_rule_dic)\n"
   ]
  },
  {
   "cell_type": "code",
   "execution_count": 126,
   "metadata": {
    "collapsed": true
   },
   "outputs": [],
   "source": [
    "defined_patterns = \\\n",
    "    {\n",
    "        \"I need ?X\": [\"Image you will get ?X soon\", \"Why do you need ?X ?\"],\n",
    "        \"My ?X told me something\": [\"Talk about more about your ?X\", \"How do you think about your ?X ?\"],\n",
    "        '?*x hello ?*y': ['How do you do', 'Please state your problem'],\n",
    "        '?*x I want ?*y': ['what would it mean if you got ?y', 'Why do you want ?y', 'Suppose you got ?y soon'],\n",
    "        '?*x if ?*y': ['Do you really think its likely that ?y', 'Do you wish that ?y', 'What do you think about ?y', 'Really-- if ?y'],\n",
    "        '?*x no ?*y': ['why not?', 'You are being a negative', 'Are you saying \\'No\\' just to be negative?'],\n",
    "        '?*x I was ?*y': ['Were you really', 'Perhaps I already knew you were ?y', 'Why do you tell me you were ?y now?'],\n",
    "        '?*x I feel ?*y': ['Do you often feel ?y ?', 'What other feelings do you have?']        \n",
    "    }"
   ]
  },
  {
   "cell_type": "code",
   "execution_count": 127,
   "metadata": {},
   "outputs": [],
   "source": [
    "import random\n",
    "def get_response(saying,rules=defined_patterns):\n",
    "    for k in rules.keys():\n",
    "        pattern = pat_match(k.split(), saying.split())\n",
    "        if False not in pattern and len(pattern[0][1]) != len(saying.split()) :            \n",
    "            response = random.choice(rules[k])\n",
    "            return ' '.join(subsitite(response.split(), pat_to_dic(pattern)))\n",
    "    return \"\""
   ]
  },
  {
   "cell_type": "code",
   "execution_count": 128,
   "metadata": {},
   "outputs": [],
   "source": [
    "sentence = [\"I need MacBook\",\"My Brother told me something\",'OK,that fun. hello my smart daughter','i had told you I want buy a macbook','what is going  if i did not do my homework', 'please say no when someone bother you', 'i am really sorry, I was an honest boy','the noodle, I feel just so so']"
   ]
  },
  {
   "cell_type": "code",
   "execution_count": 131,
   "metadata": {},
   "outputs": [
    {
     "name": "stdout",
     "output_type": "stream",
     "text": [
      "*******\n",
      "i am really sorry, I was an honest boy\n",
      "Perhaps I already knew you were an honest boy\n",
      "*******\n",
      "i had told you I want buy a macbook\n",
      "what would it mean if you got buy a macbook\n",
      "*******\n",
      "OK,that fun. hello my smart daughter\n",
      "How do you do\n",
      "*******\n",
      "the noodle, I feel just so so\n",
      "Do you often feel just so so ?\n",
      "*******\n",
      "what is going  if i did not do my homework\n",
      "Do you wish that i did not do my homework\n",
      "*******\n",
      "i am really sorry, I was an honest boy\n",
      "Were you really\n",
      "*******\n",
      "the noodle, I feel just so so\n",
      "Do you often feel just so so ?\n",
      "*******\n",
      "I need MacBook\n",
      "Why do you need MacBook ?\n",
      "*******\n",
      "what is going  if i did not do my homework\n",
      "Do you really think its likely that i did not do my homework\n",
      "*******\n",
      "I need MacBook\n",
      "Why do you need MacBook ?\n",
      "*******\n",
      "i had told you I want buy a macbook\n",
      "Suppose you got buy a macbook soon\n",
      "*******\n",
      "please say no when someone bother you\n",
      "You are being a negative\n",
      "*******\n",
      "i had told you I want buy a macbook\n",
      "what would it mean if you got buy a macbook\n",
      "*******\n",
      "My Brother told me something\n",
      "Talk about more about your Brother\n",
      "*******\n",
      "please say no when someone bother you\n",
      "why not?\n",
      "*******\n",
      "I need MacBook\n",
      "Image you will get MacBook soon\n",
      "*******\n",
      "please say no when someone bother you\n",
      "You are being a negative\n",
      "*******\n",
      "I need MacBook\n",
      "Why do you need MacBook ?\n",
      "*******\n",
      "what is going  if i did not do my homework\n",
      "Do you really think its likely that i did not do my homework\n",
      "*******\n",
      "My Brother told me something\n",
      "How do you think about your Brother ?\n"
     ]
    }
   ],
   "source": [
    "for _ in range(20):\n",
    "    one = random.choice(sentence)\n",
    "    print('*******')\n",
    "    print(one)\n",
    "    print(get_response(one))\n"
   ]
  },
  {
   "cell_type": "markdown",
   "metadata": {},
   "source": [
    "### Question2  AND  Question3\n",
    "改写以上程序，将程序变成能够支持中文输入的模式。\n",
    "*提示*: 你可以需用用到 jieba 分词\n",
    "\n",
    "多设计一些模式，让这个程序变得更好玩，多和大家交流，看看大家有什么好玩的模式"
   ]
  },
  {
   "cell_type": "code",
   "execution_count": 152,
   "metadata": {},
   "outputs": [],
   "source": [
    "defined_patterns = \\\n",
    "    {'?*x我想?*y': ['你觉得?y有什么意义呢？', '为什么你想?y', '你可以想想你很快就可以?y了'],\n",
    "    '?*x我想要?*y': ['?x想问你，你觉得?y有什么意义呢?', '为什么你想?y', '?x觉得... 你可以想想你很快就可以有?y了', '你看?x像?y不', '我看你就像?y'],\n",
    "    '?*x喜欢?*y': ['喜欢?y的哪里？', '?y有什么好的呢？', '你想要?y吗？'],\n",
    "    '?*x讨厌?*y': ['?y怎么会那么讨厌呢?', '讨厌?y的哪里？', '?y有什么不好呢？', '你不想要?y吗？'],\n",
    "#     '?*xAI?*y': ['你为什么要提AI的事情？', '你为什么觉得AI要解决你的问题？'],\n",
    "    '?*x机器人?*y': ['你为什么要提机器人的事情？', '你为什么觉得机器人要解决你的问题？'],\n",
    "    '?*x对不起?*y': ['不用道歉', '你为什么觉得你需要道歉呢?'],\n",
    "    '?*x我记得?*y': ['你经常会想起这个吗？', '除了?y你还会想起什么吗？', '你为什么和我提起?y'],\n",
    "    '?*x如果?*y': ['你真的觉得?y会发生吗？', '你希望?y吗?', '真的吗？如果?y的话', '关于?y你怎么想？'],\n",
    "    '?*x我?*z梦见?*y':['真的吗? --- ?y', '你在醒着的时候，以前想象过?y吗？', '你以前梦见过?y吗'],\n",
    "    '?*x妈妈?*y': ['你家里除了?y还有谁?', '嗯嗯，多说一点和你家里有关系的', '她对你影响很大吗？'],\n",
    "    '?*x爸爸?*y': ['你家里除了?y还有谁?', '嗯嗯，多说一点和你家里有关系的', '他对你影响很大吗？', '每当你想起你爸爸的时候， 你还会想起其他的吗?'],\n",
    "    '?*x我愿意?*y': ['我可以帮你?y吗？', '你可以解释一下，为什么想?y'],\n",
    "    '?*x我很难过，因为?*y': ['我听到你这么说， 也很难过', '?y不应该让你这么难过的'],\n",
    "    '?*x难过?*y': ['我听到你这么说， 也很难过',\n",
    "                 '不应该让你这么难过的，你觉得你拥有什么，就会不难过?',\n",
    "                 '你觉得事情变成什么样，你就不难过了?'],\n",
    "    '?*x就像?*y': ['你觉得?x和?y有什么相似性？', '?x和?y真的有关系吗？', '怎么说？'],\n",
    "    '?*x和?*y都?*z': ['你觉得?z有什么问题吗?', '?z会对你有什么影响呢?'],\n",
    "    '?*x和?*y一样?*z': ['你觉得?z有什么问题吗?', '?z会对你有什么影响呢?'],\n",
    "    '?*x我是?*y': ['真的吗？', '?x想告诉你，或许我早就知道你是?y', '你为什么现在才告诉我你是?y'],\n",
    "    '?*x我是?*y吗': ['如果你是?y会怎么样呢？', '你觉得你是?y吗', '如果你是?y，那一位着什么?'],\n",
    "    '?*x你是?*y吗':  ['你为什么会对我是不是?y感兴趣?', '那你希望我是?y吗', '你要是喜欢， 我就会是?y'],\n",
    "    '?*x你是?*y' : ['为什么你觉得我是?y'],\n",
    "    '?*x因为?*y' : ['?y是真正的原因吗？', '你觉得会有其他原因吗?'],\n",
    "    '?*x我不能?*y': ['你或许现在就能?*y', '如果你能?*y,会怎样呢？'],\n",
    "    '?*x我觉得?*y': ['你经常这样感觉吗？', '除了到这个，你还有什么其他的感觉吗？'],\n",
    "    '?*x我?*y你?*z': ['其实很有可能我们互相?y'],\n",
    "    '?*x你为什么不?*y': ['你自己为什么不?y', '你觉得我不会?y', '等我心情好了，我就?y'],\n",
    "    '?*x好的?*y': ['好的', '你是一个很正能量的人'],\n",
    "    '?*x嗯嗯?*y': ['好的', '你是一个很正能量的人'],\n",
    "    '?*x不嘛?*y': ['为什么不？', '你有一点负能量', '你说 不，是想表达不想的意思吗？'],\n",
    "    '?*x不要?*y': ['为什么不？', '你有一点负能量', '你说 不，是想表达不想的意思吗？'],\n",
    "    '?*x有些人?*y': ['具体是哪些人呢?'],\n",
    "    '?*x有的人?*y': ['具体是哪些人呢?'],\n",
    "    '?*x某些人?*y': ['具体是哪些人呢?'],\n",
    "    '?*x每个人?*y': ['我确定不是人人都是', '你能想到一点特殊情况吗？', '例如谁？', '你看到的其实只是一小部分人'],\n",
    "    '?*x所有人?*y': ['我确定不是人人都是', '你能想到一点特殊情况吗？', '例如谁？', '你看到的其实只是一小部分人'],\n",
    "    '?*x总是?*y': ['你能想到一些其他情况吗?', '例如什么时候?', '你具体是说哪一次？', '真的---总是吗？'],\n",
    "    '?*x一直?*y': ['你能想到一些其他情况吗?', '例如什么时候?', '你具体是说哪一次？', '真的---总是吗？'],\n",
    "    '?*x或许?*y': ['你看起来不太确定'],\n",
    "    '?*x可能?*y': ['你看起来不太确定'],\n",
    "    '?*x他们是?*y吗？': ['你觉得他们可能不是?y？'],\n",
    "    '?*x': ['很有趣', '请继续', '我不太确定我很理解你说的, 能稍微详细解释一下吗?']\n",
    "    }"
   ]
  },
  {
   "cell_type": "code",
   "execution_count": 153,
   "metadata": {
    "collapsed": true
   },
   "outputs": [],
   "source": [
    "def is_variable(pat):\n",
    "    return pat.startswith('?') and all(s.isalpha() for s in pat[1:])\n",
    "\n",
    "def is_pattern_segment(pat):\n",
    "    return pat.startswith('?*') and all(s.isalpha() for s in pat[2:])"
   ]
  },
  {
   "cell_type": "code",
   "execution_count": 154,
   "metadata": {
    "collapsed": true
   },
   "outputs": [],
   "source": [
    "fail = [ False]\n",
    "def pat_match(pattern, saying):\n",
    "    if not pattern or not saying: return []\n",
    "    pat = pattern[0]\n",
    "    if is_variable(pat):\n",
    "        return [(pat, saying[0])] + pat_match(pattern[1:], saying[1:])\n",
    "    elif is_pattern_segment(pat):\n",
    "        match, index = segment_match(pattern, saying)\n",
    "        if len(saying) == index and pattern[1:]:\n",
    "            return fail\n",
    "        else:\n",
    "            return [match] + pat_match(pattern[1:], saying[index:])\n",
    "    elif pat == saying[0]:\n",
    "        return pat_match(pattern[1:], saying[1:])\n",
    "    else:\n",
    "        return fail"
   ]
  },
  {
   "cell_type": "code",
   "execution_count": 155,
   "metadata": {
    "collapsed": true
   },
   "outputs": [],
   "source": [
    "def segment_match(pattern,saying):\n",
    "    seg_pat,seg_rest = pattern[0],pattern[1:]\n",
    "    seg_pat = seg_pat.replace('?*','?')\n",
    "    if not seg_rest:return (seg_pat,saying),len(saying)\n",
    "    for k,v in enumerate(saying):\n",
    "        if seg_rest[0] == v:\n",
    "            return  (seg_pat,saying[:k]),k\n",
    "    return (seg_pat,saying),len(saying)"
   ]
  },
  {
   "cell_type": "code",
   "execution_count": 156,
   "metadata": {
    "collapsed": true
   },
   "outputs": [],
   "source": [
    "def pat_to_dic(pattern):\n",
    "    return {k: ' '.join(v) if isinstance(v,list) else v for k,v in pattern}"
   ]
  },
  {
   "cell_type": "code",
   "execution_count": 157,
   "metadata": {
    "collapsed": true
   },
   "outputs": [],
   "source": [
    "def subsitite(rule,parsed_rule_dic):\n",
    "    if not rule:return []\n",
    "    return [parsed_rule_dic.get(rule[0],rule[0])]+ subsitite(rule[1:],parsed_rule_dic)"
   ]
  },
  {
   "cell_type": "code",
   "execution_count": 158,
   "metadata": {
    "collapsed": true
   },
   "outputs": [],
   "source": [
    "import jieba\n",
    "def my_split(words):\n",
    "    seg_list=[]\n",
    "    tmp=\"\"\n",
    "    for word in list(jieba.cut(words)):\n",
    "        if word == '?':\n",
    "            tmp = word\n",
    "            continue\n",
    "        elif word == '*' or word == 'x' or word == 'y' :\n",
    "            tmp += word\n",
    "            continue\n",
    "        else:\n",
    "            if tmp != \"\":\n",
    "                seg_list.append(tmp)\n",
    "                tmp=\"\"\n",
    "            seg_list.append(word)\n",
    "    if tmp != \"\":\n",
    "        seg_list.append(tmp)\n",
    "    #print(seg_list)\n",
    "    return seg_list"
   ]
  },
  {
   "cell_type": "code",
   "execution_count": 159,
   "metadata": {
    "collapsed": true
   },
   "outputs": [],
   "source": [
    "import random\n",
    "def get_response(saying,rules=defined_patterns):\n",
    "    for k in rules.keys():\n",
    "        pattern = pat_match(my_split(k),my_split(saying))\n",
    "        if False not in pattern :\n",
    "        # if False not in pattern and len(pattern[0][1]) != len(my_split(saying)) :\n",
    "        #     print(\"parameter :\"+k)\n",
    "        #     print(\"pattern_dic\")\n",
    "        #     print(pat_to_dic(pattern))\n",
    "            response = random.choice(rules[k])\n",
    "            return ''.join(subsitite(my_split(response), pat_to_dic(pattern)))\n",
    "    return "
   ]
  },
  {
   "cell_type": "code",
   "execution_count": 160,
   "metadata": {},
   "outputs": [
    {
     "name": "stdout",
     "output_type": "stream",
     "text": [
      "我讨厌吃菜\n",
      "吃 菜有什么不好呢？\n",
      "------------\n",
      "当初如果没有贪玩就好了\n",
      "真的吗？如果没有 贪玩 就 好 了的话\n",
      "------------\n",
      "天猫精灵是一个机器人吗\n",
      "你为什么要提机器人的事情？\n",
      "------------\n",
      "老师，我记得昨天没有作业\n",
      "除了昨天 没有 作业你还会想起什么吗？\n",
      "------------\n",
      "我喜欢爸爸总是带我去玩\n",
      "你想要爸爸 总是 带我去 玩吗？\n",
      "------------\n",
      "明天我愿意来上这节课\n",
      "我可以帮你来 上 这节 课吗？\n",
      "------------\n",
      "爸爸，我想要玩具\n",
      "你看爸爸 ，像玩具不\n",
      "------------\n",
      "妈妈难过的时候让我不知所措\n",
      "嗯嗯，多说一点和你家里有关系的\n",
      "------------\n",
      "老师，我很难过，因为这道题我做不出来\n",
      "我听到你这么说， 也很难过\n",
      "------------\n",
      "天猫精灵是一个机器人吗\n",
      "你为什么要提机器人的事情？\n",
      "------------\n",
      "我爱妈妈做的菜\n",
      "她对你影响很大吗？\n",
      "------------\n",
      "妈妈难过的时候让我不知所措\n",
      "她对你影响很大吗？\n",
      "------------\n",
      "爸爸，我想要玩具\n",
      "爸爸 ，想问你，你觉得玩具有什么意义呢?\n",
      "------------\n",
      "明天我愿意来上这节课\n",
      "我可以帮你来 上 这节 课吗？\n",
      "------------\n",
      "爸爸，我想要玩具\n",
      "我看你就像玩具\n",
      "------------\n",
      "当初如果没有贪玩就好了\n",
      "你希望没有 贪玩 就 好 了吗?\n",
      "------------\n",
      "当初如果没有贪玩就好了\n",
      "真的吗？如果没有 贪玩 就 好 了的话\n",
      "------------\n",
      "老师，我记得昨天没有作业\n",
      "你为什么和我提起昨天 没有 作业\n",
      "------------\n",
      "难道是我对不起你吗？\n",
      "你为什么觉得你需要道歉呢?\n",
      "------------\n",
      "天猫精灵是一个机器人吗\n",
      "你为什么要提机器人的事情？\n",
      "------------\n"
     ]
    }
   ],
   "source": [
    "sentence=\\\n",
    "    [\n",
    "        \"妈妈，我想睡觉\",\n",
    "        \"爸爸，我想要玩具\",\n",
    "        \"我喜欢上学\",\n",
    "        \"我讨厌吃菜\",\n",
    "        \"什么是AI呀\",\n",
    "        \"天猫精灵是一个机器人吗\",\n",
    "        \"难道是我对不起你吗？\",\n",
    "        \"老师，我记得昨天没有作业\",\n",
    "        \"当初如果没有贪玩就好了\",\n",
    "        \"昨天晚上我梦见钥匙丢了\",\n",
    "        \"我爱妈妈做的菜\",\n",
    "        \"我喜欢爸爸总是带我去玩\",\n",
    "        \"明天我愿意来上这节课\",\n",
    "        \"老师，我很难过，因为这道题我做不出来\",\n",
    "        \"妈妈难过的时候让我不知所措\"\n",
    "\n",
    "    ]\n",
    "\n",
    "\n",
    "for _ in range(20):\n",
    "    one = random.choice(sentence)\n",
    "    print(one)\n",
    "    print(get_response(one))\n",
    "    print('------------')\n"
   ]
  },
  {
   "cell_type": "markdown",
   "metadata": {},
   "source": [
    "### Question4\n",
    "1. 这样的程序有什么优点？有什么缺点？你有什么可以改进的方法吗？ \n",
    "2. 什么是数据驱动？数据驱动在这个程序里如何体现？\n",
    "3. 数据驱动与 AI 的关系是什么？ "
   ]
  },
  {
   "cell_type": "markdown",
   "metadata": {},
   "source": [
    "1\n",
    "    1.1、优点：把语句拆分成几个部分，找准模式语句中不同替代词的关系，可以产生较为智能的回答，一个模式可以适配很多句话，为机器学习人的语言交流方式奠定了基础。\n",
    "    1.2、缺点：人类的语言以及话语方式是无穷多个的，模式也会产生无穷多个，这个无论是在可行性上或者是机器处理上都会有很大的难度\n",
    "    1.3、类似英语的语法，用主语、谓语、宾语、代词等待词性进行模式标注和句法字典的学习。这样词虽然有无数多个但是词性的种类数量是一定的。然后寻找语句之间句法的关联，构成提问回答的“模式问答法”。\n",
    "2\n",
    "    2.1 例如USB驱动，我们的鼠标、U盘，他们功能和传输的数据是不相同的，但是他们遵循同一个USB驱动标准，所以这些免驱设备就可以使用“公共的一条路”去通信。以此类推，数据驱动就是一些内容不相同的语句，但是他们的“骨骼架子”可能较为相同，然后提取出来作“一条公共的路”，随着不同语句的丰富，会有很多公共的语句结构，之后的新的数据如果符合此数据驱动，就可以使用这个驱动下的相关方法。\n",
    "    本例中通过类似这样【'?*x我是?*y吗、    '?*x你是?*y吗'】的语句结构为每种语句构成一个数据驱动，之后诸多的句法集合构成一定领域数据驱动。\n",
    "3\n",
    "    AI更广，AI应该包含数据驱动。数据驱动是大数据下的一种方法，有效的提升的AI行业。如果随着科技的发展，AI不在依靠数据去学习，那么那个时候的AI应该会有新的手段方法，就不仅仅是数据驱动了。"
   ]
  }
 ],
 "metadata": {
  "kernelspec": {
   "display_name": "Python 3",
   "language": "python",
   "name": "python3"
  },
  "language_info": {
   "codemirror_mode": {
    "name": "ipython",
    "version": 3
   },
   "file_extension": ".py",
   "mimetype": "text/x-python",
   "name": "python",
   "nbconvert_exporter": "python",
   "pygments_lexer": "ipython3",
   "version": "3.6.1"
  }
 },
 "nbformat": 4,
 "nbformat_minor": 2
}
