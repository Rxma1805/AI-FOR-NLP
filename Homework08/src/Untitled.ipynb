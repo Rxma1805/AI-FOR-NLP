{
 "cells": [
  {
   "cell_type": "code",
   "execution_count": 1,
   "metadata": {},
   "outputs": [],
   "source": [
    "import sys\n",
    "sys.path.append('../src')\n",
    "import data_io, params, SIF_embedding\n",
    "import numpy as np"
   ]
  },
  {
   "cell_type": "code",
   "execution_count": 2,
   "metadata": {},
   "outputs": [
    {
     "name": "stdout",
     "output_type": "stream",
     "text": [
      "['24523']\n",
      "['21492']\n",
      "['299']\n",
      "['67']\n",
      "['36']\n",
      "['23']\n",
      "['17']\n",
      "['10']\n",
      "['6']\n"
     ]
    }
   ],
   "source": [
    "\n",
    "# input\n",
    "wordfile = '../vectors.txt' # word vector file, can be downloaded from GloVe website\n",
    "weightfile = '../vocab.txt' # each line is a word and its frequency\n",
    "weightpara = 1e-3 # the parameter in the SIF weighting scheme, usually in the range [3e-5, 3e-3]\n",
    "rmpc = 1 # number of principal components to remove in SIF weighting scheme\n",
    "sentences = ['this is an example sentence', 'this is another sentence that is slightly longer']\n",
    "\n",
    "# load word vectors\n",
    "(words, We) = data_io.getWordmap(wordfile)\n",
    "# load word weights\n",
    "word2weight = data_io.getWordWeight(weightfile, weightpara) # word2weight['str'] is the weight for the word 'str'\n",
    "weight4ind = data_io.getWeight(words, word2weight) # weight4ind[i] is the weight for the i-th word\n",
    "# load sentences\n",
    "x, m = data_io.sentences2idx(sentences, words) # x is the array of word indices, m is the binary mask indicating whether there is a word in that location\n",
    "w = data_io.seq2weight(x, m, weight4ind) # get word weights\n",
    "\n",
    "# set parameters\n",
    "params = params.params()\n",
    "params.rmpc = rmpc\n"
   ]
  },
  {
   "cell_type": "code",
   "execution_count": 3,
   "metadata": {},
   "outputs": [
    {
     "data": {
      "text/plain": [
       "(672039, 50)"
      ]
     },
     "execution_count": 3,
     "metadata": {},
     "output_type": "execute_result"
    }
   ],
   "source": [
    "We.shape"
   ]
  },
  {
   "cell_type": "code",
   "execution_count": null,
   "metadata": {},
   "outputs": [],
   "source": [
    "textfile = wordfile\n",
    "words={}\n",
    "We = []\n",
    "f = open(textfile,'r')\n",
    "lines = f.readlines()\n",
    "for (n,i) in enumerate(lines):\n",
    "    i=i.split(' ')\n",
    "    j = 1\n",
    "    v = []\n",
    "    while j < len(i):\n",
    "        v.append(float(i[j]))\n",
    "        j += 1\n",
    "    words[i[0]]=n\n",
    "    We.append(np.array(v))\n",
    "\n"
   ]
  },
  {
   "cell_type": "code",
   "execution_count": null,
   "metadata": {},
   "outputs": [],
   "source": [
    "np.array(We).shape"
   ]
  },
  {
   "cell_type": "code",
   "execution_count": null,
   "metadata": {},
   "outputs": [],
   "source": [
    "old=0\n",
    "with open(wordfile) as f:\n",
    "    for l in f:\n",
    "        w = len(l.split(' ')[1:])\n",
    "        if old != w:\n",
    "            print(l)\n",
    "            old = w\n",
    "            print(old)\n",
    "        "
   ]
  },
  {
   "cell_type": "code",
   "execution_count": null,
   "metadata": {},
   "outputs": [],
   "source": [
    "b"
   ]
  },
  {
   "cell_type": "code",
   "execution_count": null,
   "metadata": {},
   "outputs": [],
   "source": [
    "We = We.reshape(672039,1,-1)"
   ]
  },
  {
   "cell_type": "code",
   "execution_count": null,
   "metadata": {},
   "outputs": [],
   "source": [
    "We.shape"
   ]
  },
  {
   "cell_type": "code",
   "execution_count": null,
   "metadata": {},
   "outputs": [],
   "source": [
    "We.shape"
   ]
  },
  {
   "cell_type": "code",
   "execution_count": null,
   "metadata": {},
   "outputs": [],
   "source": [
    "np.array(We).shape"
   ]
  },
  {
   "cell_type": "code",
   "execution_count": null,
   "metadata": {},
   "outputs": [],
   "source": [
    "np.array(a).shape"
   ]
  },
  {
   "cell_type": "code",
   "execution_count": null,
   "metadata": {},
   "outputs": [],
   "source": [
    "np.array(We,dtype=np.float)"
   ]
  },
  {
   "cell_type": "code",
   "execution_count": null,
   "metadata": {
    "scrolled": false
   },
   "outputs": [],
   "source": [
    "We.reshape(672039,50)"
   ]
  },
  {
   "cell_type": "code",
   "execution_count": null,
   "metadata": {},
   "outputs": [],
   "source": [
    "np.array(Vect)"
   ]
  },
  {
   "cell_type": "code",
   "execution_count": null,
   "metadata": {},
   "outputs": [],
   "source": [
    "We.reshape(n_sample,50).shape"
   ]
  },
  {
   "cell_type": "code",
   "execution_count": null,
   "metadata": {},
   "outputs": [],
   "source": [
    "We"
   ]
  },
  {
   "cell_type": "code",
   "execution_count": null,
   "metadata": {},
   "outputs": [],
   "source": [
    "print(We.shape)"
   ]
  },
  {
   "cell_type": "code",
   "execution_count": null,
   "metadata": {},
   "outputs": [],
   "source": [
    "We"
   ]
  },
  {
   "cell_type": "code",
   "execution_count": null,
   "metadata": {},
   "outputs": [],
   "source": [
    "We = np.array(We)"
   ]
  },
  {
   "cell_type": "code",
   "execution_count": 4,
   "metadata": {},
   "outputs": [
    {
     "name": "stdout",
     "output_type": "stream",
     "text": [
      "[[-0.00109331  0.04932686  0.00769659 -0.04051123  0.13101502 -0.02381823\n",
      "   0.0140959   0.06876858 -0.07036109 -0.17082632  0.00105771 -0.04283117\n",
      "   0.01866626  0.03799534  0.00579458  0.01158332 -0.0522996   0.10752572\n",
      "  -0.08206184 -0.03727443 -0.1951357  -0.02458631 -0.07559427  0.01574389\n",
      "   0.22434938 -0.08171535 -0.08715579 -0.03183408 -0.16986888  0.00536488\n",
      "  -0.11879281  0.0079132   0.05572708 -0.05518892 -0.06884021  0.10505543\n",
      "  -0.02514844 -0.19142739  0.10920064  0.06373397 -0.00795828 -0.06492519\n",
      "  -0.10132593  0.03952733  0.17596191  0.01159165  0.05597824 -0.07033156\n",
      "   0.11451805  0.04436477]\n",
      " [ 0.00116028 -0.05234865 -0.00816809  0.04299297 -0.13904107  0.02527735\n",
      "  -0.01495942 -0.07298137  0.07467145  0.18129123 -0.0011225   0.04545503\n",
      "  -0.01980977 -0.04032296 -0.00614956 -0.01229292  0.0555035  -0.11411281\n",
      "   0.087089    0.03955788  0.20708982  0.02609248  0.08022522 -0.01670837\n",
      "  -0.23809314  0.08672128  0.092495    0.03378425  0.18027513 -0.00569353\n",
      "   0.12607012 -0.00839796 -0.05914095  0.05856982  0.0730574  -0.11149119\n",
      "   0.02668904  0.20315433 -0.11589033 -0.06763835  0.00844581  0.06890254\n",
      "   0.10753321 -0.04194879 -0.18674143 -0.01230177 -0.0594075   0.07464011\n",
      "  -0.12153349 -0.04708257]]\n"
     ]
    }
   ],
   "source": [
    "# get SIF embedding\n",
    "embedding = SIF_embedding.SIF_embedding(We, x, w, params) # embedding[i,:] is the embedding for sentence i\n",
    "print(embedding)"
   ]
  },
  {
   "cell_type": "code",
   "execution_count": 5,
   "metadata": {},
   "outputs": [],
   "source": [
    "from scipy.spatial.distance import cosine"
   ]
  },
  {
   "cell_type": "code",
   "execution_count": 6,
   "metadata": {},
   "outputs": [
    {
     "data": {
      "text/plain": [
       "2.0"
      ]
     },
     "execution_count": 6,
     "metadata": {},
     "output_type": "execute_result"
    }
   ],
   "source": [
    "cosine(embedding[0],embedding[1])"
   ]
  },
  {
   "cell_type": "code",
   "execution_count": null,
   "metadata": {},
   "outputs": [],
   "source": []
  }
 ],
 "metadata": {
  "kernelspec": {
   "display_name": "Python3.6",
   "language": "python",
   "name": "python3.6"
  },
  "language_info": {
   "codemirror_mode": {
    "name": "ipython",
    "version": 3
   },
   "file_extension": ".py",
   "mimetype": "text/x-python",
   "name": "python",
   "nbconvert_exporter": "python",
   "pygments_lexer": "ipython3",
   "version": "3.6.8"
  }
 },
 "nbformat": 4,
 "nbformat_minor": 2
}
